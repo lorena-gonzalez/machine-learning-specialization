{
 "cells": [
  {
   "cell_type": "markdown",
   "id": "18c33962-8915-4a12-b59d-55a5610410de",
   "metadata": {},
   "source": [
    "# Decision Trees\n",
    "\n",
    "In this notebook you will visualize how a decision tree is splitted using information gain.\n",
    "\n",
    "We will revisit the dataset used in the video lectures. The dataset is:\n",
    "\n",
    "\n",
    "As you saw in the lectures, in a decision tree, we decide if a node will be split or not by looking at the **information gain** that split would give us. (Image of video IG)\n",
    "\n",
    "Where \n",
    "\n",
    "$$\\text{Information Gain} = H(p_1^\\text{node})- \\left(w^{\\text{left}}H\\left(p_1^\\text{left}\\right) + w^{\\text{right}}H\\left(p_1^\\text{right}\\right)\\right),$$\n",
    "\n",
    "and $H$ is the entropy, defined as\n",
    "\n",
    "$$H(p_1) = -p_1 \\text{log}_2(p_1) - (1- p_1) \\text{log}_2(1- p_1)$$\n",
    "\n",
    "Remember that log here is defined to be in base 2. Run the code block below to see by yourself how the entropy. $H(p)$ behaves while $p$ varies.\n",
    "\n",
    "Note that the H attains its higher value when $p = 0.5$. This means that the probability of event is $0.5$. And its minimum value is attained in $p = 0$ and $p = 1$, i.e., the probability of the event happening is totally predictable. Thus, the entropy shows the degree of predictability of an event."
   ]
  },
  {
   "cell_type": "code",
   "execution_count": 1,
   "id": "3d60e01a-1663-4686-b773-a189e6c81d5c",
   "metadata": {},
   "outputs": [],
   "source": [
    "import pandas as pd\n",
    "import numpy as np\n",
    "import matplotlib.pyplot as plt"
   ]
  },
  {
   "cell_type": "markdown",
   "id": "8c131b75-2ed4-4924-adf7-f4973a479459",
   "metadata": {},
   "source": [
    "|                                                     |   Ear Shape | Face Shape | Whiskers |   Cat  |\n",
    "|:---------------------------------------------------:|:---------:|:-----------:|:---------:|:------:|\n",
    "| <img src=\"images/0.png\" alt=\"drawing\" width=\"50\"/> |   Pointy   |   Round     |  Present  |    1   |\n",
    "| <img src=\"images/1.png\" alt=\"drawing\" width=\"50\"/> |   Floppy   |  Not Round  |  Present  |    1   |\n",
    "| <img src=\"images/2.png\" alt=\"drawing\" width=\"50\"/> |   Floppy   |  Round      |  Absent   |    0   |\n",
    "| <img src=\"images/3.png\" alt=\"drawing\" width=\"50\"/> |   Pointy   |  Not Round  |  Present  |    0   |\n",
    "| <img src=\"images/4.png\" alt=\"drawing\" width=\"50\"/> |   Pointy   |   Round     |  Present  |    1   |\n",
    "| <img src=\"images/5.png\" alt=\"drawing\" width=\"50\"/> |   Pointy   |   Round     |  Absent   |    1   |\n",
    "| <img src=\"images/6.png\" alt=\"drawing\" width=\"50\"/> |   Floppy   |  Not Round  |  Absent   |    0   |\n",
    "| <img src=\"images/7.png\" alt=\"drawing\" width=\"50\"/> |   Pointy   |  Round      |  Absent   |    1   |\n",
    "| <img src=\"images/8.png\" alt=\"drawing\" width=\"50\"/> |    Floppy  |   Round     |  Absent   |    0   |\n",
    "| <img src=\"images/9.png\" alt=\"drawing\" width=\"50\"/> |   Floppy   |  Round      |  Absent   |    0   |\n",
    "\n",
    "\n",
    "We will use **one-hot encoding** to encode the categorical features. They will be as follows:\n",
    "\n",
    "- Ear Shape: Pointy = 1, Floppy = 0\n",
    "- Face Shape: Round = 1, Not Round = 0\n",
    "- Whiskers: Present = 1, Absent = 0\n",
    "\n",
    "Therefore, we have two sets:\n",
    "\n",
    "- `X_train`: for each example, contains 3 features:\n",
    "            - Ear Shape (1 if pointy, 0 otherwise)\n",
    "            - Face Shape (1 if round, 0 otherwise)\n",
    "            - Whiskers (1 if present, 0 otherwise)\n",
    "            \n",
    "- `y_train`: whether the animal is a cat\n",
    "            - 1 if the animal is a cat\n",
    "            - 0 otherwise"
   ]
  },
  {
   "cell_type": "code",
   "execution_count": 2,
   "id": "c38e0620-f7de-48b0-8239-cf1c3fbf6236",
   "metadata": {},
   "outputs": [],
   "source": [
    "X_train = np.array([[1, 1, 1],\n",
    "[0, 0, 1],\n",
    " [0, 1, 0],\n",
    " [1, 0, 1],\n",
    " [1, 1, 1],\n",
    " [1, 1, 0],\n",
    " [0, 0, 0],\n",
    " [1, 1, 0],\n",
    " [0, 1, 0],\n",
    " [0, 1, 0]])\n",
    "\n",
    "y_train = np.array([1, 1, 0, 0, 1, 1, 0, 1, 0, 0])"
   ]
  },
  {
   "cell_type": "code",
   "execution_count": 3,
   "id": "64116ad9-37eb-40f9-9f51-564e8047396a",
   "metadata": {},
   "outputs": [
    {
     "data": {
      "text/plain": [
       "array([1, 1, 1])"
      ]
     },
     "execution_count": 3,
     "metadata": {},
     "output_type": "execute_result"
    }
   ],
   "source": [
    "#For instance, the first example\n",
    "X_train[0]"
   ]
  },
  {
   "cell_type": "markdown",
   "id": "f5848d85-1ea8-4cda-a343-4bd8051abe9c",
   "metadata": {},
   "source": [
    "This means that the first example has a pointy ear shape, round face shape and it has whiskers.\n",
    "\n",
    "On each node, we compute the information gain for each feature, then split the node on the feature with the higher information gain, by comparing the entropy of the node with the weighted entropy in the two splitted nodes.\n",
    "\n",
    "So, the root node has every animal in our dataset. Remember that $p_1^{node}$ is the proportion of positive class (cats) in the root node. So\n",
    "\n",
    "$$p_1^{node} = \\frac{5}{10} = 0.5$$\n",
    "\n",
    "Now let's write a function to compute the entropy."
   ]
  },
  {
   "cell_type": "code",
   "execution_count": 4,
   "id": "d7f8e91c-d1c1-4520-873a-a39e50186318",
   "metadata": {},
   "outputs": [
    {
     "name": "stdout",
     "output_type": "stream",
     "text": [
      "1.0\n"
     ]
    }
   ],
   "source": [
    "def entropy(p):\n",
    "    if p == 0 or p == 1:\n",
    "        return 0\n",
    "    else:\n",
    "        return -p * np.log2(p) - (1- p)*np.log2(1 - p)\n",
    "    \n",
    "print(entropy(0.5))"
   ]
  },
  {
   "cell_type": "markdown",
   "id": "ac749e13-d14d-4d62-af46-93df5675b2c8",
   "metadata": {},
   "source": [
    "To illustrate, let's compute the information gain if we split the node for each of the features. To do this, let's write some functions."
   ]
  },
  {
   "cell_type": "code",
   "execution_count": 5,
   "id": "f4536768-dab1-4b4f-9d11-8059c23b4a65",
   "metadata": {},
   "outputs": [],
   "source": [
    "def split_indices(X, index_feature):\n",
    "    \"\"\"Given a dataset and a index feature, return two lists for the two split nodes, the left node has the animals \n",
    "    that have that feature = 1 and the right node those that have the feature = 0 \n",
    "    index feature = 0 => ear shape\n",
    "    index feature = 1 => face shape\n",
    "    index feature = 2 => whiskers\n",
    "    \"\"\"\n",
    "    left_indices = []\n",
    "    right_indices = []\n",
    "    for i,x in enumerate(X):\n",
    "        if x[index_feature] == 1:\n",
    "            left_indices.append(i)\n",
    "        else:\n",
    "            right_indices.append(i)\n",
    "    return left_indices, right_indices"
   ]
  },
  {
   "cell_type": "markdown",
   "id": "6306fcfd-37e1-4e18-8c2b-978a5c9e55c2",
   "metadata": {},
   "source": [
    "So, if we choose Ear Shape to split, then we must have in the left node (check the table above) the indices:\n",
    "\n",
    "$$0 \\quad 3 \\quad 4 \\quad 5 \\quad 7$$\n",
    "\n",
    "and the right indices, the remaining ones."
   ]
  },
  {
   "cell_type": "code",
   "execution_count": 6,
   "id": "4866638f-5962-4f31-8abb-d9233bf0c8fd",
   "metadata": {},
   "outputs": [
    {
     "data": {
      "text/plain": [
       "([0, 3, 4, 5, 7], [1, 2, 6, 8, 9])"
      ]
     },
     "execution_count": 6,
     "metadata": {},
     "output_type": "execute_result"
    }
   ],
   "source": [
    "split_indices(X_train, 0)"
   ]
  },
  {
   "cell_type": "markdown",
   "id": "bcc7b4f2-9af7-4bb0-a4ef-b1ba5a7b6dd7",
   "metadata": {},
   "source": [
    "Now we need another function to compute the weighted entropy in the splitted nodes. As you've seen in the video lecture, we must find:\n",
    "\n",
    "- $w^{\\text{left}}$ and $w^{\\text{right}}$, the proportion of animals in **each node**.\n",
    "- $p^{\\text{left}}$ and $p^{\\text{right}}$, the proportion of cats in **each split**.\n",
    "\n",
    "Note the difference between these two definitions!! To illustrate, if we split the root node on the feature of index 0 (Ear Shape), then in the left node, the one that has the animals 0, 3, 4, 5 and 7, we have:\n",
    "\n",
    "$$w^{\\text{left}}= \\frac{5}{10} = 0.5 \\text{ and } p^{\\text{left}} = \\frac{4}{5}$$\n",
    "$$w^{\\text{right}}= \\frac{5}{10} = 0.5 \\text{ and } p^{\\text{right}} = \\frac{1}{5}$$"
   ]
  },
  {
   "cell_type": "code",
   "execution_count": 7,
   "id": "a3936008-14e5-476f-8f57-4fbf30145b97",
   "metadata": {},
   "outputs": [],
   "source": [
    "def weighted_entropy(X,y,left_indices,right_indices):\n",
    "    \"\"\"\n",
    "    This function takes the splitted dataset, the indices we chose to split and returns the weighted entropy.\n",
    "    \"\"\"\n",
    "    w_left = len(left_indices)/len(X)\n",
    "    w_right = len(right_indices)/len(X)\n",
    "    p_left = sum(y[left_indices])/len(left_indices)\n",
    "    p_right = sum(y[right_indices])/len(right_indices)\n",
    "    \n",
    "    weighted_entropy = w_left * entropy(p_left) + w_right * entropy(p_right)\n",
    "    return weighted_entropy"
   ]
  },
  {
   "cell_type": "code",
   "execution_count": 8,
   "id": "7e6c63fa-138d-4bbe-8c52-8f513617a358",
   "metadata": {},
   "outputs": [
    {
     "data": {
      "text/plain": [
       "0.7219280948873623"
      ]
     },
     "execution_count": 8,
     "metadata": {},
     "output_type": "execute_result"
    }
   ],
   "source": [
    "left_indices, right_indices = split_indices(X_train, 0)\n",
    "weighted_entropy(X_train, y_train, left_indices, right_indices)"
   ]
  },
  {
   "cell_type": "markdown",
   "id": "7484c91a-b038-403f-8e76-c4b831ef1aa9",
   "metadata": {},
   "source": [
    "So, the weighted entropy in the 2 split nodes is 0.72. To compute the **Information Gain** we must subtract it from the entropy in the node we chose to split (in this case, the root node). "
   ]
  },
  {
   "cell_type": "code",
   "execution_count": 9,
   "id": "2d73337e-3edb-4e45-9da8-8e91f2724543",
   "metadata": {},
   "outputs": [],
   "source": [
    "def information_gain(X, y, left_indices, right_indices):\n",
    "    \"\"\"\n",
    "    Here, X has the elements in the node and y is theirs respectives classes\n",
    "    \"\"\"\n",
    "    p_node = sum(y)/len(y)\n",
    "    h_node = entropy(p_node)\n",
    "    w_entropy = weighted_entropy(X,y,left_indices,right_indices)\n",
    "    return h_node - w_entropy"
   ]
  },
  {
   "cell_type": "code",
   "execution_count": 10,
   "id": "91ac88ed-311e-4c9b-b641-b466ef3e8b80",
   "metadata": {},
   "outputs": [
    {
     "data": {
      "text/plain": [
       "0.2780719051126377"
      ]
     },
     "execution_count": 10,
     "metadata": {},
     "output_type": "execute_result"
    }
   ],
   "source": [
    "information_gain(X_train, y_train, left_indices, right_indices)"
   ]
  },
  {
   "cell_type": "markdown",
   "id": "57bc1f95-18fe-4e34-8c2d-f183054bdda1",
   "metadata": {},
   "source": [
    "Now, let's compute the information gain if we split the root node for each feature:"
   ]
  },
  {
   "cell_type": "code",
   "execution_count": 11,
   "id": "f38f90e0-bd0f-4d28-9451-c54b04ef8543",
   "metadata": {},
   "outputs": [
    {
     "name": "stdout",
     "output_type": "stream",
     "text": [
      "Feature: Ear Shape, information gain if we split the root node using this feature: 0.28\n",
      "Feature: Face Shape, information gain if we split the root node using this feature: 0.03\n",
      "Feature: Whiskers, information gain if we split the root node using this feature: 0.12\n"
     ]
    }
   ],
   "source": [
    "for i, feature_name in enumerate(['Ear Shape', 'Face Shape', 'Whiskers']):\n",
    "    left_indices, right_indices = split_indices(X_train, i)\n",
    "    i_gain = information_gain(X_train, y_train, left_indices, right_indices)\n",
    "    print(f\"Feature: {feature_name}, information gain if we split the root node using this feature: {i_gain:.2f}\")\n",
    "    "
   ]
  },
  {
   "cell_type": "markdown",
   "id": "6d381da1-dee5-41fd-91df-a434936f3d5c",
   "metadata": {},
   "source": [
    "So, the best feature to split is indeed the Ear Shape. Run the code below to see the split in action. You do not need to understand the following code block. \n",
    "\n",
    "The process is **recursive**, which means we must perform these calculations for each node until we meet a stopping criteria:\n",
    "\n",
    "- If the tree depth after splitting exceeds a threshold\n",
    "- If the resulting node has only 1 class\n",
    "- If the information gain of splitting is below a threshold\n",
    "\n"
   ]
  },
  {
   "cell_type": "code",
   "execution_count": null,
   "id": "51e26d53-363a-4528-9c59-246d05cee5c4",
   "metadata": {},
   "outputs": [],
   "source": []
  }
 ],
 "metadata": {
  "environment": {
   "kernel": "python3",
   "name": "common-cu110.m102",
   "type": "gcloud",
   "uri": "gcr.io/deeplearning-platform-release/base-cu110:m102"
  },
  "kernelspec": {
   "display_name": "Python 3",
   "language": "python",
   "name": "python3"
  },
  "language_info": {
   "codemirror_mode": {
    "name": "ipython",
    "version": 3
   },
   "file_extension": ".py",
   "mimetype": "text/x-python",
   "name": "python",
   "nbconvert_exporter": "python",
   "pygments_lexer": "ipython3",
   "version": "3.7.12"
  }
 },
 "nbformat": 4,
 "nbformat_minor": 5
}
